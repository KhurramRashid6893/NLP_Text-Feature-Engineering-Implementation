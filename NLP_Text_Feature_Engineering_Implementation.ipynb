{
  "nbformat": 4,
  "nbformat_minor": 0,
  "metadata": {
    "colab": {
      "provenance": [],
      "mount_file_id": "1qMKG3D1M_62jbNA3aaZnVviMd1WBL3Oy",
      "authorship_tag": "ABX9TyMcQLuPA6fmtcbc93BSUuta",
      "include_colab_link": true
    },
    "kernelspec": {
      "name": "python3",
      "display_name": "Python 3"
    },
    "language_info": {
      "name": "python"
    },
    "widgets": {
      "application/vnd.jupyter.widget-state+json": {
        "6f5823ece31f425389daf8f20779a4b6": {
          "model_module": "@jupyter-widgets/controls",
          "model_name": "HBoxModel",
          "model_module_version": "1.5.0",
          "state": {
            "_dom_classes": [],
            "_model_module": "@jupyter-widgets/controls",
            "_model_module_version": "1.5.0",
            "_model_name": "HBoxModel",
            "_view_count": null,
            "_view_module": "@jupyter-widgets/controls",
            "_view_module_version": "1.5.0",
            "_view_name": "HBoxView",
            "box_style": "",
            "children": [
              "IPY_MODEL_53b6037aac63476facc16f46ab8a0086",
              "IPY_MODEL_ba6d907a47b942d181a979db55f096e0",
              "IPY_MODEL_6460989defa44d079ee6e6773f32d07d"
            ],
            "layout": "IPY_MODEL_ce4cdd068f744d998df73181a17510ba"
          }
        },
        "53b6037aac63476facc16f46ab8a0086": {
          "model_module": "@jupyter-widgets/controls",
          "model_name": "HTMLModel",
          "model_module_version": "1.5.0",
          "state": {
            "_dom_classes": [],
            "_model_module": "@jupyter-widgets/controls",
            "_model_module_version": "1.5.0",
            "_model_name": "HTMLModel",
            "_view_count": null,
            "_view_module": "@jupyter-widgets/controls",
            "_view_module_version": "1.5.0",
            "_view_name": "HTMLView",
            "description": "",
            "description_tooltip": null,
            "layout": "IPY_MODEL_09e135188eda462db8ec9fe5242a90e9",
            "placeholder": "​",
            "style": "IPY_MODEL_b1d7cfab1cc646bfbbd80a8e257d67a7",
            "value": "tokenizer_config.json: 100%"
          }
        },
        "ba6d907a47b942d181a979db55f096e0": {
          "model_module": "@jupyter-widgets/controls",
          "model_name": "FloatProgressModel",
          "model_module_version": "1.5.0",
          "state": {
            "_dom_classes": [],
            "_model_module": "@jupyter-widgets/controls",
            "_model_module_version": "1.5.0",
            "_model_name": "FloatProgressModel",
            "_view_count": null,
            "_view_module": "@jupyter-widgets/controls",
            "_view_module_version": "1.5.0",
            "_view_name": "ProgressView",
            "bar_style": "success",
            "description": "",
            "description_tooltip": null,
            "layout": "IPY_MODEL_1099b3ba702e463eb782796698767895",
            "max": 48,
            "min": 0,
            "orientation": "horizontal",
            "style": "IPY_MODEL_b33bc4b4702d43daa68a7c09eaec09e9",
            "value": 48
          }
        },
        "6460989defa44d079ee6e6773f32d07d": {
          "model_module": "@jupyter-widgets/controls",
          "model_name": "HTMLModel",
          "model_module_version": "1.5.0",
          "state": {
            "_dom_classes": [],
            "_model_module": "@jupyter-widgets/controls",
            "_model_module_version": "1.5.0",
            "_model_name": "HTMLModel",
            "_view_count": null,
            "_view_module": "@jupyter-widgets/controls",
            "_view_module_version": "1.5.0",
            "_view_name": "HTMLView",
            "description": "",
            "description_tooltip": null,
            "layout": "IPY_MODEL_1c14e6576366454090a69b2eec93dee7",
            "placeholder": "​",
            "style": "IPY_MODEL_921604d24aaa438dadf92cc395be6bb5",
            "value": " 48.0/48.0 [00:00&lt;00:00, 3.06kB/s]"
          }
        },
        "ce4cdd068f744d998df73181a17510ba": {
          "model_module": "@jupyter-widgets/base",
          "model_name": "LayoutModel",
          "model_module_version": "1.2.0",
          "state": {
            "_model_module": "@jupyter-widgets/base",
            "_model_module_version": "1.2.0",
            "_model_name": "LayoutModel",
            "_view_count": null,
            "_view_module": "@jupyter-widgets/base",
            "_view_module_version": "1.2.0",
            "_view_name": "LayoutView",
            "align_content": null,
            "align_items": null,
            "align_self": null,
            "border": null,
            "bottom": null,
            "display": null,
            "flex": null,
            "flex_flow": null,
            "grid_area": null,
            "grid_auto_columns": null,
            "grid_auto_flow": null,
            "grid_auto_rows": null,
            "grid_column": null,
            "grid_gap": null,
            "grid_row": null,
            "grid_template_areas": null,
            "grid_template_columns": null,
            "grid_template_rows": null,
            "height": null,
            "justify_content": null,
            "justify_items": null,
            "left": null,
            "margin": null,
            "max_height": null,
            "max_width": null,
            "min_height": null,
            "min_width": null,
            "object_fit": null,
            "object_position": null,
            "order": null,
            "overflow": null,
            "overflow_x": null,
            "overflow_y": null,
            "padding": null,
            "right": null,
            "top": null,
            "visibility": null,
            "width": null
          }
        },
        "09e135188eda462db8ec9fe5242a90e9": {
          "model_module": "@jupyter-widgets/base",
          "model_name": "LayoutModel",
          "model_module_version": "1.2.0",
          "state": {
            "_model_module": "@jupyter-widgets/base",
            "_model_module_version": "1.2.0",
            "_model_name": "LayoutModel",
            "_view_count": null,
            "_view_module": "@jupyter-widgets/base",
            "_view_module_version": "1.2.0",
            "_view_name": "LayoutView",
            "align_content": null,
            "align_items": null,
            "align_self": null,
            "border": null,
            "bottom": null,
            "display": null,
            "flex": null,
            "flex_flow": null,
            "grid_area": null,
            "grid_auto_columns": null,
            "grid_auto_flow": null,
            "grid_auto_rows": null,
            "grid_column": null,
            "grid_gap": null,
            "grid_row": null,
            "grid_template_areas": null,
            "grid_template_columns": null,
            "grid_template_rows": null,
            "height": null,
            "justify_content": null,
            "justify_items": null,
            "left": null,
            "margin": null,
            "max_height": null,
            "max_width": null,
            "min_height": null,
            "min_width": null,
            "object_fit": null,
            "object_position": null,
            "order": null,
            "overflow": null,
            "overflow_x": null,
            "overflow_y": null,
            "padding": null,
            "right": null,
            "top": null,
            "visibility": null,
            "width": null
          }
        },
        "b1d7cfab1cc646bfbbd80a8e257d67a7": {
          "model_module": "@jupyter-widgets/controls",
          "model_name": "DescriptionStyleModel",
          "model_module_version": "1.5.0",
          "state": {
            "_model_module": "@jupyter-widgets/controls",
            "_model_module_version": "1.5.0",
            "_model_name": "DescriptionStyleModel",
            "_view_count": null,
            "_view_module": "@jupyter-widgets/base",
            "_view_module_version": "1.2.0",
            "_view_name": "StyleView",
            "description_width": ""
          }
        },
        "1099b3ba702e463eb782796698767895": {
          "model_module": "@jupyter-widgets/base",
          "model_name": "LayoutModel",
          "model_module_version": "1.2.0",
          "state": {
            "_model_module": "@jupyter-widgets/base",
            "_model_module_version": "1.2.0",
            "_model_name": "LayoutModel",
            "_view_count": null,
            "_view_module": "@jupyter-widgets/base",
            "_view_module_version": "1.2.0",
            "_view_name": "LayoutView",
            "align_content": null,
            "align_items": null,
            "align_self": null,
            "border": null,
            "bottom": null,
            "display": null,
            "flex": null,
            "flex_flow": null,
            "grid_area": null,
            "grid_auto_columns": null,
            "grid_auto_flow": null,
            "grid_auto_rows": null,
            "grid_column": null,
            "grid_gap": null,
            "grid_row": null,
            "grid_template_areas": null,
            "grid_template_columns": null,
            "grid_template_rows": null,
            "height": null,
            "justify_content": null,
            "justify_items": null,
            "left": null,
            "margin": null,
            "max_height": null,
            "max_width": null,
            "min_height": null,
            "min_width": null,
            "object_fit": null,
            "object_position": null,
            "order": null,
            "overflow": null,
            "overflow_x": null,
            "overflow_y": null,
            "padding": null,
            "right": null,
            "top": null,
            "visibility": null,
            "width": null
          }
        },
        "b33bc4b4702d43daa68a7c09eaec09e9": {
          "model_module": "@jupyter-widgets/controls",
          "model_name": "ProgressStyleModel",
          "model_module_version": "1.5.0",
          "state": {
            "_model_module": "@jupyter-widgets/controls",
            "_model_module_version": "1.5.0",
            "_model_name": "ProgressStyleModel",
            "_view_count": null,
            "_view_module": "@jupyter-widgets/base",
            "_view_module_version": "1.2.0",
            "_view_name": "StyleView",
            "bar_color": null,
            "description_width": ""
          }
        },
        "1c14e6576366454090a69b2eec93dee7": {
          "model_module": "@jupyter-widgets/base",
          "model_name": "LayoutModel",
          "model_module_version": "1.2.0",
          "state": {
            "_model_module": "@jupyter-widgets/base",
            "_model_module_version": "1.2.0",
            "_model_name": "LayoutModel",
            "_view_count": null,
            "_view_module": "@jupyter-widgets/base",
            "_view_module_version": "1.2.0",
            "_view_name": "LayoutView",
            "align_content": null,
            "align_items": null,
            "align_self": null,
            "border": null,
            "bottom": null,
            "display": null,
            "flex": null,
            "flex_flow": null,
            "grid_area": null,
            "grid_auto_columns": null,
            "grid_auto_flow": null,
            "grid_auto_rows": null,
            "grid_column": null,
            "grid_gap": null,
            "grid_row": null,
            "grid_template_areas": null,
            "grid_template_columns": null,
            "grid_template_rows": null,
            "height": null,
            "justify_content": null,
            "justify_items": null,
            "left": null,
            "margin": null,
            "max_height": null,
            "max_width": null,
            "min_height": null,
            "min_width": null,
            "object_fit": null,
            "object_position": null,
            "order": null,
            "overflow": null,
            "overflow_x": null,
            "overflow_y": null,
            "padding": null,
            "right": null,
            "top": null,
            "visibility": null,
            "width": null
          }
        },
        "921604d24aaa438dadf92cc395be6bb5": {
          "model_module": "@jupyter-widgets/controls",
          "model_name": "DescriptionStyleModel",
          "model_module_version": "1.5.0",
          "state": {
            "_model_module": "@jupyter-widgets/controls",
            "_model_module_version": "1.5.0",
            "_model_name": "DescriptionStyleModel",
            "_view_count": null,
            "_view_module": "@jupyter-widgets/base",
            "_view_module_version": "1.2.0",
            "_view_name": "StyleView",
            "description_width": ""
          }
        },
        "8162bca91e4d4f2a894885479b0978be": {
          "model_module": "@jupyter-widgets/controls",
          "model_name": "HBoxModel",
          "model_module_version": "1.5.0",
          "state": {
            "_dom_classes": [],
            "_model_module": "@jupyter-widgets/controls",
            "_model_module_version": "1.5.0",
            "_model_name": "HBoxModel",
            "_view_count": null,
            "_view_module": "@jupyter-widgets/controls",
            "_view_module_version": "1.5.0",
            "_view_name": "HBoxView",
            "box_style": "",
            "children": [
              "IPY_MODEL_a783c500d67342a3827a332ea3aacbca",
              "IPY_MODEL_0d3179afb6a34b87a7bbe82366cc6c9e",
              "IPY_MODEL_a46732bed5544548bf751d1b5d79a11d"
            ],
            "layout": "IPY_MODEL_b221d668d35c4800935d9a1cf6f220a4"
          }
        },
        "a783c500d67342a3827a332ea3aacbca": {
          "model_module": "@jupyter-widgets/controls",
          "model_name": "HTMLModel",
          "model_module_version": "1.5.0",
          "state": {
            "_dom_classes": [],
            "_model_module": "@jupyter-widgets/controls",
            "_model_module_version": "1.5.0",
            "_model_name": "HTMLModel",
            "_view_count": null,
            "_view_module": "@jupyter-widgets/controls",
            "_view_module_version": "1.5.0",
            "_view_name": "HTMLView",
            "description": "",
            "description_tooltip": null,
            "layout": "IPY_MODEL_4048004e4242434883f4b9d00eb44110",
            "placeholder": "​",
            "style": "IPY_MODEL_bbba41072d49427fa57f3f8bec33dea2",
            "value": "vocab.txt: 100%"
          }
        },
        "0d3179afb6a34b87a7bbe82366cc6c9e": {
          "model_module": "@jupyter-widgets/controls",
          "model_name": "FloatProgressModel",
          "model_module_version": "1.5.0",
          "state": {
            "_dom_classes": [],
            "_model_module": "@jupyter-widgets/controls",
            "_model_module_version": "1.5.0",
            "_model_name": "FloatProgressModel",
            "_view_count": null,
            "_view_module": "@jupyter-widgets/controls",
            "_view_module_version": "1.5.0",
            "_view_name": "ProgressView",
            "bar_style": "success",
            "description": "",
            "description_tooltip": null,
            "layout": "IPY_MODEL_fbb10dfc2d344dcb8acdafe296afab87",
            "max": 231508,
            "min": 0,
            "orientation": "horizontal",
            "style": "IPY_MODEL_3ea7f3a454e34fe8bfc19081df6579fd",
            "value": 231508
          }
        },
        "a46732bed5544548bf751d1b5d79a11d": {
          "model_module": "@jupyter-widgets/controls",
          "model_name": "HTMLModel",
          "model_module_version": "1.5.0",
          "state": {
            "_dom_classes": [],
            "_model_module": "@jupyter-widgets/controls",
            "_model_module_version": "1.5.0",
            "_model_name": "HTMLModel",
            "_view_count": null,
            "_view_module": "@jupyter-widgets/controls",
            "_view_module_version": "1.5.0",
            "_view_name": "HTMLView",
            "description": "",
            "description_tooltip": null,
            "layout": "IPY_MODEL_6cbb58d7ba604cc5ba22469007786737",
            "placeholder": "​",
            "style": "IPY_MODEL_c9f0c06900e147c58bbb804143df6699",
            "value": " 232k/232k [00:00&lt;00:00, 4.34MB/s]"
          }
        },
        "b221d668d35c4800935d9a1cf6f220a4": {
          "model_module": "@jupyter-widgets/base",
          "model_name": "LayoutModel",
          "model_module_version": "1.2.0",
          "state": {
            "_model_module": "@jupyter-widgets/base",
            "_model_module_version": "1.2.0",
            "_model_name": "LayoutModel",
            "_view_count": null,
            "_view_module": "@jupyter-widgets/base",
            "_view_module_version": "1.2.0",
            "_view_name": "LayoutView",
            "align_content": null,
            "align_items": null,
            "align_self": null,
            "border": null,
            "bottom": null,
            "display": null,
            "flex": null,
            "flex_flow": null,
            "grid_area": null,
            "grid_auto_columns": null,
            "grid_auto_flow": null,
            "grid_auto_rows": null,
            "grid_column": null,
            "grid_gap": null,
            "grid_row": null,
            "grid_template_areas": null,
            "grid_template_columns": null,
            "grid_template_rows": null,
            "height": null,
            "justify_content": null,
            "justify_items": null,
            "left": null,
            "margin": null,
            "max_height": null,
            "max_width": null,
            "min_height": null,
            "min_width": null,
            "object_fit": null,
            "object_position": null,
            "order": null,
            "overflow": null,
            "overflow_x": null,
            "overflow_y": null,
            "padding": null,
            "right": null,
            "top": null,
            "visibility": null,
            "width": null
          }
        },
        "4048004e4242434883f4b9d00eb44110": {
          "model_module": "@jupyter-widgets/base",
          "model_name": "LayoutModel",
          "model_module_version": "1.2.0",
          "state": {
            "_model_module": "@jupyter-widgets/base",
            "_model_module_version": "1.2.0",
            "_model_name": "LayoutModel",
            "_view_count": null,
            "_view_module": "@jupyter-widgets/base",
            "_view_module_version": "1.2.0",
            "_view_name": "LayoutView",
            "align_content": null,
            "align_items": null,
            "align_self": null,
            "border": null,
            "bottom": null,
            "display": null,
            "flex": null,
            "flex_flow": null,
            "grid_area": null,
            "grid_auto_columns": null,
            "grid_auto_flow": null,
            "grid_auto_rows": null,
            "grid_column": null,
            "grid_gap": null,
            "grid_row": null,
            "grid_template_areas": null,
            "grid_template_columns": null,
            "grid_template_rows": null,
            "height": null,
            "justify_content": null,
            "justify_items": null,
            "left": null,
            "margin": null,
            "max_height": null,
            "max_width": null,
            "min_height": null,
            "min_width": null,
            "object_fit": null,
            "object_position": null,
            "order": null,
            "overflow": null,
            "overflow_x": null,
            "overflow_y": null,
            "padding": null,
            "right": null,
            "top": null,
            "visibility": null,
            "width": null
          }
        },
        "bbba41072d49427fa57f3f8bec33dea2": {
          "model_module": "@jupyter-widgets/controls",
          "model_name": "DescriptionStyleModel",
          "model_module_version": "1.5.0",
          "state": {
            "_model_module": "@jupyter-widgets/controls",
            "_model_module_version": "1.5.0",
            "_model_name": "DescriptionStyleModel",
            "_view_count": null,
            "_view_module": "@jupyter-widgets/base",
            "_view_module_version": "1.2.0",
            "_view_name": "StyleView",
            "description_width": ""
          }
        },
        "fbb10dfc2d344dcb8acdafe296afab87": {
          "model_module": "@jupyter-widgets/base",
          "model_name": "LayoutModel",
          "model_module_version": "1.2.0",
          "state": {
            "_model_module": "@jupyter-widgets/base",
            "_model_module_version": "1.2.0",
            "_model_name": "LayoutModel",
            "_view_count": null,
            "_view_module": "@jupyter-widgets/base",
            "_view_module_version": "1.2.0",
            "_view_name": "LayoutView",
            "align_content": null,
            "align_items": null,
            "align_self": null,
            "border": null,
            "bottom": null,
            "display": null,
            "flex": null,
            "flex_flow": null,
            "grid_area": null,
            "grid_auto_columns": null,
            "grid_auto_flow": null,
            "grid_auto_rows": null,
            "grid_column": null,
            "grid_gap": null,
            "grid_row": null,
            "grid_template_areas": null,
            "grid_template_columns": null,
            "grid_template_rows": null,
            "height": null,
            "justify_content": null,
            "justify_items": null,
            "left": null,
            "margin": null,
            "max_height": null,
            "max_width": null,
            "min_height": null,
            "min_width": null,
            "object_fit": null,
            "object_position": null,
            "order": null,
            "overflow": null,
            "overflow_x": null,
            "overflow_y": null,
            "padding": null,
            "right": null,
            "top": null,
            "visibility": null,
            "width": null
          }
        },
        "3ea7f3a454e34fe8bfc19081df6579fd": {
          "model_module": "@jupyter-widgets/controls",
          "model_name": "ProgressStyleModel",
          "model_module_version": "1.5.0",
          "state": {
            "_model_module": "@jupyter-widgets/controls",
            "_model_module_version": "1.5.0",
            "_model_name": "ProgressStyleModel",
            "_view_count": null,
            "_view_module": "@jupyter-widgets/base",
            "_view_module_version": "1.2.0",
            "_view_name": "StyleView",
            "bar_color": null,
            "description_width": ""
          }
        },
        "6cbb58d7ba604cc5ba22469007786737": {
          "model_module": "@jupyter-widgets/base",
          "model_name": "LayoutModel",
          "model_module_version": "1.2.0",
          "state": {
            "_model_module": "@jupyter-widgets/base",
            "_model_module_version": "1.2.0",
            "_model_name": "LayoutModel",
            "_view_count": null,
            "_view_module": "@jupyter-widgets/base",
            "_view_module_version": "1.2.0",
            "_view_name": "LayoutView",
            "align_content": null,
            "align_items": null,
            "align_self": null,
            "border": null,
            "bottom": null,
            "display": null,
            "flex": null,
            "flex_flow": null,
            "grid_area": null,
            "grid_auto_columns": null,
            "grid_auto_flow": null,
            "grid_auto_rows": null,
            "grid_column": null,
            "grid_gap": null,
            "grid_row": null,
            "grid_template_areas": null,
            "grid_template_columns": null,
            "grid_template_rows": null,
            "height": null,
            "justify_content": null,
            "justify_items": null,
            "left": null,
            "margin": null,
            "max_height": null,
            "max_width": null,
            "min_height": null,
            "min_width": null,
            "object_fit": null,
            "object_position": null,
            "order": null,
            "overflow": null,
            "overflow_x": null,
            "overflow_y": null,
            "padding": null,
            "right": null,
            "top": null,
            "visibility": null,
            "width": null
          }
        },
        "c9f0c06900e147c58bbb804143df6699": {
          "model_module": "@jupyter-widgets/controls",
          "model_name": "DescriptionStyleModel",
          "model_module_version": "1.5.0",
          "state": {
            "_model_module": "@jupyter-widgets/controls",
            "_model_module_version": "1.5.0",
            "_model_name": "DescriptionStyleModel",
            "_view_count": null,
            "_view_module": "@jupyter-widgets/base",
            "_view_module_version": "1.2.0",
            "_view_name": "StyleView",
            "description_width": ""
          }
        },
        "eb8f8322ba43466e92345baa372c59fa": {
          "model_module": "@jupyter-widgets/controls",
          "model_name": "HBoxModel",
          "model_module_version": "1.5.0",
          "state": {
            "_dom_classes": [],
            "_model_module": "@jupyter-widgets/controls",
            "_model_module_version": "1.5.0",
            "_model_name": "HBoxModel",
            "_view_count": null,
            "_view_module": "@jupyter-widgets/controls",
            "_view_module_version": "1.5.0",
            "_view_name": "HBoxView",
            "box_style": "",
            "children": [
              "IPY_MODEL_c5989f2dec0d47deb8adfe3af924dfea",
              "IPY_MODEL_140ea6bc50c846c68aac87883a9cfa85",
              "IPY_MODEL_6f4f704f1a3e4643ae689773ed4e858a"
            ],
            "layout": "IPY_MODEL_b4b7b0cca1844d30a1c6f64a6ded648d"
          }
        },
        "c5989f2dec0d47deb8adfe3af924dfea": {
          "model_module": "@jupyter-widgets/controls",
          "model_name": "HTMLModel",
          "model_module_version": "1.5.0",
          "state": {
            "_dom_classes": [],
            "_model_module": "@jupyter-widgets/controls",
            "_model_module_version": "1.5.0",
            "_model_name": "HTMLModel",
            "_view_count": null,
            "_view_module": "@jupyter-widgets/controls",
            "_view_module_version": "1.5.0",
            "_view_name": "HTMLView",
            "description": "",
            "description_tooltip": null,
            "layout": "IPY_MODEL_6b21f0343ca1421d84c2d843cba9cf62",
            "placeholder": "​",
            "style": "IPY_MODEL_8c93e2dde53945848306c6d8029f1eb6",
            "value": "tokenizer.json: 100%"
          }
        },
        "140ea6bc50c846c68aac87883a9cfa85": {
          "model_module": "@jupyter-widgets/controls",
          "model_name": "FloatProgressModel",
          "model_module_version": "1.5.0",
          "state": {
            "_dom_classes": [],
            "_model_module": "@jupyter-widgets/controls",
            "_model_module_version": "1.5.0",
            "_model_name": "FloatProgressModel",
            "_view_count": null,
            "_view_module": "@jupyter-widgets/controls",
            "_view_module_version": "1.5.0",
            "_view_name": "ProgressView",
            "bar_style": "success",
            "description": "",
            "description_tooltip": null,
            "layout": "IPY_MODEL_8504e170a482447da113fa0f04179026",
            "max": 466062,
            "min": 0,
            "orientation": "horizontal",
            "style": "IPY_MODEL_592e99cd6b394caeb2c837ce58f69b97",
            "value": 466062
          }
        },
        "6f4f704f1a3e4643ae689773ed4e858a": {
          "model_module": "@jupyter-widgets/controls",
          "model_name": "HTMLModel",
          "model_module_version": "1.5.0",
          "state": {
            "_dom_classes": [],
            "_model_module": "@jupyter-widgets/controls",
            "_model_module_version": "1.5.0",
            "_model_name": "HTMLModel",
            "_view_count": null,
            "_view_module": "@jupyter-widgets/controls",
            "_view_module_version": "1.5.0",
            "_view_name": "HTMLView",
            "description": "",
            "description_tooltip": null,
            "layout": "IPY_MODEL_72db5b22336a438fbbe817107d169586",
            "placeholder": "​",
            "style": "IPY_MODEL_a861d1eb13be42219934b8d9e086609b",
            "value": " 466k/466k [00:00&lt;00:00, 15.3MB/s]"
          }
        },
        "b4b7b0cca1844d30a1c6f64a6ded648d": {
          "model_module": "@jupyter-widgets/base",
          "model_name": "LayoutModel",
          "model_module_version": "1.2.0",
          "state": {
            "_model_module": "@jupyter-widgets/base",
            "_model_module_version": "1.2.0",
            "_model_name": "LayoutModel",
            "_view_count": null,
            "_view_module": "@jupyter-widgets/base",
            "_view_module_version": "1.2.0",
            "_view_name": "LayoutView",
            "align_content": null,
            "align_items": null,
            "align_self": null,
            "border": null,
            "bottom": null,
            "display": null,
            "flex": null,
            "flex_flow": null,
            "grid_area": null,
            "grid_auto_columns": null,
            "grid_auto_flow": null,
            "grid_auto_rows": null,
            "grid_column": null,
            "grid_gap": null,
            "grid_row": null,
            "grid_template_areas": null,
            "grid_template_columns": null,
            "grid_template_rows": null,
            "height": null,
            "justify_content": null,
            "justify_items": null,
            "left": null,
            "margin": null,
            "max_height": null,
            "max_width": null,
            "min_height": null,
            "min_width": null,
            "object_fit": null,
            "object_position": null,
            "order": null,
            "overflow": null,
            "overflow_x": null,
            "overflow_y": null,
            "padding": null,
            "right": null,
            "top": null,
            "visibility": null,
            "width": null
          }
        },
        "6b21f0343ca1421d84c2d843cba9cf62": {
          "model_module": "@jupyter-widgets/base",
          "model_name": "LayoutModel",
          "model_module_version": "1.2.0",
          "state": {
            "_model_module": "@jupyter-widgets/base",
            "_model_module_version": "1.2.0",
            "_model_name": "LayoutModel",
            "_view_count": null,
            "_view_module": "@jupyter-widgets/base",
            "_view_module_version": "1.2.0",
            "_view_name": "LayoutView",
            "align_content": null,
            "align_items": null,
            "align_self": null,
            "border": null,
            "bottom": null,
            "display": null,
            "flex": null,
            "flex_flow": null,
            "grid_area": null,
            "grid_auto_columns": null,
            "grid_auto_flow": null,
            "grid_auto_rows": null,
            "grid_column": null,
            "grid_gap": null,
            "grid_row": null,
            "grid_template_areas": null,
            "grid_template_columns": null,
            "grid_template_rows": null,
            "height": null,
            "justify_content": null,
            "justify_items": null,
            "left": null,
            "margin": null,
            "max_height": null,
            "max_width": null,
            "min_height": null,
            "min_width": null,
            "object_fit": null,
            "object_position": null,
            "order": null,
            "overflow": null,
            "overflow_x": null,
            "overflow_y": null,
            "padding": null,
            "right": null,
            "top": null,
            "visibility": null,
            "width": null
          }
        },
        "8c93e2dde53945848306c6d8029f1eb6": {
          "model_module": "@jupyter-widgets/controls",
          "model_name": "DescriptionStyleModel",
          "model_module_version": "1.5.0",
          "state": {
            "_model_module": "@jupyter-widgets/controls",
            "_model_module_version": "1.5.0",
            "_model_name": "DescriptionStyleModel",
            "_view_count": null,
            "_view_module": "@jupyter-widgets/base",
            "_view_module_version": "1.2.0",
            "_view_name": "StyleView",
            "description_width": ""
          }
        },
        "8504e170a482447da113fa0f04179026": {
          "model_module": "@jupyter-widgets/base",
          "model_name": "LayoutModel",
          "model_module_version": "1.2.0",
          "state": {
            "_model_module": "@jupyter-widgets/base",
            "_model_module_version": "1.2.0",
            "_model_name": "LayoutModel",
            "_view_count": null,
            "_view_module": "@jupyter-widgets/base",
            "_view_module_version": "1.2.0",
            "_view_name": "LayoutView",
            "align_content": null,
            "align_items": null,
            "align_self": null,
            "border": null,
            "bottom": null,
            "display": null,
            "flex": null,
            "flex_flow": null,
            "grid_area": null,
            "grid_auto_columns": null,
            "grid_auto_flow": null,
            "grid_auto_rows": null,
            "grid_column": null,
            "grid_gap": null,
            "grid_row": null,
            "grid_template_areas": null,
            "grid_template_columns": null,
            "grid_template_rows": null,
            "height": null,
            "justify_content": null,
            "justify_items": null,
            "left": null,
            "margin": null,
            "max_height": null,
            "max_width": null,
            "min_height": null,
            "min_width": null,
            "object_fit": null,
            "object_position": null,
            "order": null,
            "overflow": null,
            "overflow_x": null,
            "overflow_y": null,
            "padding": null,
            "right": null,
            "top": null,
            "visibility": null,
            "width": null
          }
        },
        "592e99cd6b394caeb2c837ce58f69b97": {
          "model_module": "@jupyter-widgets/controls",
          "model_name": "ProgressStyleModel",
          "model_module_version": "1.5.0",
          "state": {
            "_model_module": "@jupyter-widgets/controls",
            "_model_module_version": "1.5.0",
            "_model_name": "ProgressStyleModel",
            "_view_count": null,
            "_view_module": "@jupyter-widgets/base",
            "_view_module_version": "1.2.0",
            "_view_name": "StyleView",
            "bar_color": null,
            "description_width": ""
          }
        },
        "72db5b22336a438fbbe817107d169586": {
          "model_module": "@jupyter-widgets/base",
          "model_name": "LayoutModel",
          "model_module_version": "1.2.0",
          "state": {
            "_model_module": "@jupyter-widgets/base",
            "_model_module_version": "1.2.0",
            "_model_name": "LayoutModel",
            "_view_count": null,
            "_view_module": "@jupyter-widgets/base",
            "_view_module_version": "1.2.0",
            "_view_name": "LayoutView",
            "align_content": null,
            "align_items": null,
            "align_self": null,
            "border": null,
            "bottom": null,
            "display": null,
            "flex": null,
            "flex_flow": null,
            "grid_area": null,
            "grid_auto_columns": null,
            "grid_auto_flow": null,
            "grid_auto_rows": null,
            "grid_column": null,
            "grid_gap": null,
            "grid_row": null,
            "grid_template_areas": null,
            "grid_template_columns": null,
            "grid_template_rows": null,
            "height": null,
            "justify_content": null,
            "justify_items": null,
            "left": null,
            "margin": null,
            "max_height": null,
            "max_width": null,
            "min_height": null,
            "min_width": null,
            "object_fit": null,
            "object_position": null,
            "order": null,
            "overflow": null,
            "overflow_x": null,
            "overflow_y": null,
            "padding": null,
            "right": null,
            "top": null,
            "visibility": null,
            "width": null
          }
        },
        "a861d1eb13be42219934b8d9e086609b": {
          "model_module": "@jupyter-widgets/controls",
          "model_name": "DescriptionStyleModel",
          "model_module_version": "1.5.0",
          "state": {
            "_model_module": "@jupyter-widgets/controls",
            "_model_module_version": "1.5.0",
            "_model_name": "DescriptionStyleModel",
            "_view_count": null,
            "_view_module": "@jupyter-widgets/base",
            "_view_module_version": "1.2.0",
            "_view_name": "StyleView",
            "description_width": ""
          }
        },
        "3010e8c88b6c44399c806a31ff56e639": {
          "model_module": "@jupyter-widgets/controls",
          "model_name": "HBoxModel",
          "model_module_version": "1.5.0",
          "state": {
            "_dom_classes": [],
            "_model_module": "@jupyter-widgets/controls",
            "_model_module_version": "1.5.0",
            "_model_name": "HBoxModel",
            "_view_count": null,
            "_view_module": "@jupyter-widgets/controls",
            "_view_module_version": "1.5.0",
            "_view_name": "HBoxView",
            "box_style": "",
            "children": [
              "IPY_MODEL_990d100031ef44f490060188e9f3bcb6",
              "IPY_MODEL_312b9412282f497e8ecdd4c4a9e514ba",
              "IPY_MODEL_3ca9dc9dea4e49d787e9e8e8be9a7652"
            ],
            "layout": "IPY_MODEL_d73d4668e7c942b99993d2576a818a93"
          }
        },
        "990d100031ef44f490060188e9f3bcb6": {
          "model_module": "@jupyter-widgets/controls",
          "model_name": "HTMLModel",
          "model_module_version": "1.5.0",
          "state": {
            "_dom_classes": [],
            "_model_module": "@jupyter-widgets/controls",
            "_model_module_version": "1.5.0",
            "_model_name": "HTMLModel",
            "_view_count": null,
            "_view_module": "@jupyter-widgets/controls",
            "_view_module_version": "1.5.0",
            "_view_name": "HTMLView",
            "description": "",
            "description_tooltip": null,
            "layout": "IPY_MODEL_e7f6113f2ee24fd8a1fec99c034c2f06",
            "placeholder": "​",
            "style": "IPY_MODEL_3c75574d42dc4d82be52e11606d2525b",
            "value": "config.json: 100%"
          }
        },
        "312b9412282f497e8ecdd4c4a9e514ba": {
          "model_module": "@jupyter-widgets/controls",
          "model_name": "FloatProgressModel",
          "model_module_version": "1.5.0",
          "state": {
            "_dom_classes": [],
            "_model_module": "@jupyter-widgets/controls",
            "_model_module_version": "1.5.0",
            "_model_name": "FloatProgressModel",
            "_view_count": null,
            "_view_module": "@jupyter-widgets/controls",
            "_view_module_version": "1.5.0",
            "_view_name": "ProgressView",
            "bar_style": "success",
            "description": "",
            "description_tooltip": null,
            "layout": "IPY_MODEL_a97043e0a11a4115a2f0b8ae08b79ce1",
            "max": 570,
            "min": 0,
            "orientation": "horizontal",
            "style": "IPY_MODEL_3584dcf1c2764724933aa8389dec574e",
            "value": 570
          }
        },
        "3ca9dc9dea4e49d787e9e8e8be9a7652": {
          "model_module": "@jupyter-widgets/controls",
          "model_name": "HTMLModel",
          "model_module_version": "1.5.0",
          "state": {
            "_dom_classes": [],
            "_model_module": "@jupyter-widgets/controls",
            "_model_module_version": "1.5.0",
            "_model_name": "HTMLModel",
            "_view_count": null,
            "_view_module": "@jupyter-widgets/controls",
            "_view_module_version": "1.5.0",
            "_view_name": "HTMLView",
            "description": "",
            "description_tooltip": null,
            "layout": "IPY_MODEL_de22b5422c5348f3a906ad0936c15b98",
            "placeholder": "​",
            "style": "IPY_MODEL_28f74d9369fd454789e4925d92d40974",
            "value": " 570/570 [00:00&lt;00:00, 37.4kB/s]"
          }
        },
        "d73d4668e7c942b99993d2576a818a93": {
          "model_module": "@jupyter-widgets/base",
          "model_name": "LayoutModel",
          "model_module_version": "1.2.0",
          "state": {
            "_model_module": "@jupyter-widgets/base",
            "_model_module_version": "1.2.0",
            "_model_name": "LayoutModel",
            "_view_count": null,
            "_view_module": "@jupyter-widgets/base",
            "_view_module_version": "1.2.0",
            "_view_name": "LayoutView",
            "align_content": null,
            "align_items": null,
            "align_self": null,
            "border": null,
            "bottom": null,
            "display": null,
            "flex": null,
            "flex_flow": null,
            "grid_area": null,
            "grid_auto_columns": null,
            "grid_auto_flow": null,
            "grid_auto_rows": null,
            "grid_column": null,
            "grid_gap": null,
            "grid_row": null,
            "grid_template_areas": null,
            "grid_template_columns": null,
            "grid_template_rows": null,
            "height": null,
            "justify_content": null,
            "justify_items": null,
            "left": null,
            "margin": null,
            "max_height": null,
            "max_width": null,
            "min_height": null,
            "min_width": null,
            "object_fit": null,
            "object_position": null,
            "order": null,
            "overflow": null,
            "overflow_x": null,
            "overflow_y": null,
            "padding": null,
            "right": null,
            "top": null,
            "visibility": null,
            "width": null
          }
        },
        "e7f6113f2ee24fd8a1fec99c034c2f06": {
          "model_module": "@jupyter-widgets/base",
          "model_name": "LayoutModel",
          "model_module_version": "1.2.0",
          "state": {
            "_model_module": "@jupyter-widgets/base",
            "_model_module_version": "1.2.0",
            "_model_name": "LayoutModel",
            "_view_count": null,
            "_view_module": "@jupyter-widgets/base",
            "_view_module_version": "1.2.0",
            "_view_name": "LayoutView",
            "align_content": null,
            "align_items": null,
            "align_self": null,
            "border": null,
            "bottom": null,
            "display": null,
            "flex": null,
            "flex_flow": null,
            "grid_area": null,
            "grid_auto_columns": null,
            "grid_auto_flow": null,
            "grid_auto_rows": null,
            "grid_column": null,
            "grid_gap": null,
            "grid_row": null,
            "grid_template_areas": null,
            "grid_template_columns": null,
            "grid_template_rows": null,
            "height": null,
            "justify_content": null,
            "justify_items": null,
            "left": null,
            "margin": null,
            "max_height": null,
            "max_width": null,
            "min_height": null,
            "min_width": null,
            "object_fit": null,
            "object_position": null,
            "order": null,
            "overflow": null,
            "overflow_x": null,
            "overflow_y": null,
            "padding": null,
            "right": null,
            "top": null,
            "visibility": null,
            "width": null
          }
        },
        "3c75574d42dc4d82be52e11606d2525b": {
          "model_module": "@jupyter-widgets/controls",
          "model_name": "DescriptionStyleModel",
          "model_module_version": "1.5.0",
          "state": {
            "_model_module": "@jupyter-widgets/controls",
            "_model_module_version": "1.5.0",
            "_model_name": "DescriptionStyleModel",
            "_view_count": null,
            "_view_module": "@jupyter-widgets/base",
            "_view_module_version": "1.2.0",
            "_view_name": "StyleView",
            "description_width": ""
          }
        },
        "a97043e0a11a4115a2f0b8ae08b79ce1": {
          "model_module": "@jupyter-widgets/base",
          "model_name": "LayoutModel",
          "model_module_version": "1.2.0",
          "state": {
            "_model_module": "@jupyter-widgets/base",
            "_model_module_version": "1.2.0",
            "_model_name": "LayoutModel",
            "_view_count": null,
            "_view_module": "@jupyter-widgets/base",
            "_view_module_version": "1.2.0",
            "_view_name": "LayoutView",
            "align_content": null,
            "align_items": null,
            "align_self": null,
            "border": null,
            "bottom": null,
            "display": null,
            "flex": null,
            "flex_flow": null,
            "grid_area": null,
            "grid_auto_columns": null,
            "grid_auto_flow": null,
            "grid_auto_rows": null,
            "grid_column": null,
            "grid_gap": null,
            "grid_row": null,
            "grid_template_areas": null,
            "grid_template_columns": null,
            "grid_template_rows": null,
            "height": null,
            "justify_content": null,
            "justify_items": null,
            "left": null,
            "margin": null,
            "max_height": null,
            "max_width": null,
            "min_height": null,
            "min_width": null,
            "object_fit": null,
            "object_position": null,
            "order": null,
            "overflow": null,
            "overflow_x": null,
            "overflow_y": null,
            "padding": null,
            "right": null,
            "top": null,
            "visibility": null,
            "width": null
          }
        },
        "3584dcf1c2764724933aa8389dec574e": {
          "model_module": "@jupyter-widgets/controls",
          "model_name": "ProgressStyleModel",
          "model_module_version": "1.5.0",
          "state": {
            "_model_module": "@jupyter-widgets/controls",
            "_model_module_version": "1.5.0",
            "_model_name": "ProgressStyleModel",
            "_view_count": null,
            "_view_module": "@jupyter-widgets/base",
            "_view_module_version": "1.2.0",
            "_view_name": "StyleView",
            "bar_color": null,
            "description_width": ""
          }
        },
        "de22b5422c5348f3a906ad0936c15b98": {
          "model_module": "@jupyter-widgets/base",
          "model_name": "LayoutModel",
          "model_module_version": "1.2.0",
          "state": {
            "_model_module": "@jupyter-widgets/base",
            "_model_module_version": "1.2.0",
            "_model_name": "LayoutModel",
            "_view_count": null,
            "_view_module": "@jupyter-widgets/base",
            "_view_module_version": "1.2.0",
            "_view_name": "LayoutView",
            "align_content": null,
            "align_items": null,
            "align_self": null,
            "border": null,
            "bottom": null,
            "display": null,
            "flex": null,
            "flex_flow": null,
            "grid_area": null,
            "grid_auto_columns": null,
            "grid_auto_flow": null,
            "grid_auto_rows": null,
            "grid_column": null,
            "grid_gap": null,
            "grid_row": null,
            "grid_template_areas": null,
            "grid_template_columns": null,
            "grid_template_rows": null,
            "height": null,
            "justify_content": null,
            "justify_items": null,
            "left": null,
            "margin": null,
            "max_height": null,
            "max_width": null,
            "min_height": null,
            "min_width": null,
            "object_fit": null,
            "object_position": null,
            "order": null,
            "overflow": null,
            "overflow_x": null,
            "overflow_y": null,
            "padding": null,
            "right": null,
            "top": null,
            "visibility": null,
            "width": null
          }
        },
        "28f74d9369fd454789e4925d92d40974": {
          "model_module": "@jupyter-widgets/controls",
          "model_name": "DescriptionStyleModel",
          "model_module_version": "1.5.0",
          "state": {
            "_model_module": "@jupyter-widgets/controls",
            "_model_module_version": "1.5.0",
            "_model_name": "DescriptionStyleModel",
            "_view_count": null,
            "_view_module": "@jupyter-widgets/base",
            "_view_module_version": "1.2.0",
            "_view_name": "StyleView",
            "description_width": ""
          }
        },
        "7ae0c3a1efdf48388bef5a6b1a3eee44": {
          "model_module": "@jupyter-widgets/controls",
          "model_name": "HBoxModel",
          "model_module_version": "1.5.0",
          "state": {
            "_dom_classes": [],
            "_model_module": "@jupyter-widgets/controls",
            "_model_module_version": "1.5.0",
            "_model_name": "HBoxModel",
            "_view_count": null,
            "_view_module": "@jupyter-widgets/controls",
            "_view_module_version": "1.5.0",
            "_view_name": "HBoxView",
            "box_style": "",
            "children": [
              "IPY_MODEL_05b0a70829d34e5ca04ba5b52c303046",
              "IPY_MODEL_2a14eae16fa641628b0c7a9fe6211d59",
              "IPY_MODEL_3b107132d03c4538a04e0b4408377753"
            ],
            "layout": "IPY_MODEL_bab250617d0c4c37970076308696ea7f"
          }
        },
        "05b0a70829d34e5ca04ba5b52c303046": {
          "model_module": "@jupyter-widgets/controls",
          "model_name": "HTMLModel",
          "model_module_version": "1.5.0",
          "state": {
            "_dom_classes": [],
            "_model_module": "@jupyter-widgets/controls",
            "_model_module_version": "1.5.0",
            "_model_name": "HTMLModel",
            "_view_count": null,
            "_view_module": "@jupyter-widgets/controls",
            "_view_module_version": "1.5.0",
            "_view_name": "HTMLView",
            "description": "",
            "description_tooltip": null,
            "layout": "IPY_MODEL_3eb4d93ee6f54f3885789bee09520641",
            "placeholder": "​",
            "style": "IPY_MODEL_6b64317ecaea4c9387dd05a819c97a3b",
            "value": "model.safetensors: 100%"
          }
        },
        "2a14eae16fa641628b0c7a9fe6211d59": {
          "model_module": "@jupyter-widgets/controls",
          "model_name": "FloatProgressModel",
          "model_module_version": "1.5.0",
          "state": {
            "_dom_classes": [],
            "_model_module": "@jupyter-widgets/controls",
            "_model_module_version": "1.5.0",
            "_model_name": "FloatProgressModel",
            "_view_count": null,
            "_view_module": "@jupyter-widgets/controls",
            "_view_module_version": "1.5.0",
            "_view_name": "ProgressView",
            "bar_style": "success",
            "description": "",
            "description_tooltip": null,
            "layout": "IPY_MODEL_642fe1c10fda430aa5eda537842e4bc9",
            "max": 440449768,
            "min": 0,
            "orientation": "horizontal",
            "style": "IPY_MODEL_2fcdf3c2943045a6b7b1a2d77fc3544e",
            "value": 440449768
          }
        },
        "3b107132d03c4538a04e0b4408377753": {
          "model_module": "@jupyter-widgets/controls",
          "model_name": "HTMLModel",
          "model_module_version": "1.5.0",
          "state": {
            "_dom_classes": [],
            "_model_module": "@jupyter-widgets/controls",
            "_model_module_version": "1.5.0",
            "_model_name": "HTMLModel",
            "_view_count": null,
            "_view_module": "@jupyter-widgets/controls",
            "_view_module_version": "1.5.0",
            "_view_name": "HTMLView",
            "description": "",
            "description_tooltip": null,
            "layout": "IPY_MODEL_8bb6fc5b95d348c394507a7994377df4",
            "placeholder": "​",
            "style": "IPY_MODEL_f532327c27ae4967bba70a20694550c6",
            "value": " 440M/440M [00:14&lt;00:00, 23.9MB/s]"
          }
        },
        "bab250617d0c4c37970076308696ea7f": {
          "model_module": "@jupyter-widgets/base",
          "model_name": "LayoutModel",
          "model_module_version": "1.2.0",
          "state": {
            "_model_module": "@jupyter-widgets/base",
            "_model_module_version": "1.2.0",
            "_model_name": "LayoutModel",
            "_view_count": null,
            "_view_module": "@jupyter-widgets/base",
            "_view_module_version": "1.2.0",
            "_view_name": "LayoutView",
            "align_content": null,
            "align_items": null,
            "align_self": null,
            "border": null,
            "bottom": null,
            "display": null,
            "flex": null,
            "flex_flow": null,
            "grid_area": null,
            "grid_auto_columns": null,
            "grid_auto_flow": null,
            "grid_auto_rows": null,
            "grid_column": null,
            "grid_gap": null,
            "grid_row": null,
            "grid_template_areas": null,
            "grid_template_columns": null,
            "grid_template_rows": null,
            "height": null,
            "justify_content": null,
            "justify_items": null,
            "left": null,
            "margin": null,
            "max_height": null,
            "max_width": null,
            "min_height": null,
            "min_width": null,
            "object_fit": null,
            "object_position": null,
            "order": null,
            "overflow": null,
            "overflow_x": null,
            "overflow_y": null,
            "padding": null,
            "right": null,
            "top": null,
            "visibility": null,
            "width": null
          }
        },
        "3eb4d93ee6f54f3885789bee09520641": {
          "model_module": "@jupyter-widgets/base",
          "model_name": "LayoutModel",
          "model_module_version": "1.2.0",
          "state": {
            "_model_module": "@jupyter-widgets/base",
            "_model_module_version": "1.2.0",
            "_model_name": "LayoutModel",
            "_view_count": null,
            "_view_module": "@jupyter-widgets/base",
            "_view_module_version": "1.2.0",
            "_view_name": "LayoutView",
            "align_content": null,
            "align_items": null,
            "align_self": null,
            "border": null,
            "bottom": null,
            "display": null,
            "flex": null,
            "flex_flow": null,
            "grid_area": null,
            "grid_auto_columns": null,
            "grid_auto_flow": null,
            "grid_auto_rows": null,
            "grid_column": null,
            "grid_gap": null,
            "grid_row": null,
            "grid_template_areas": null,
            "grid_template_columns": null,
            "grid_template_rows": null,
            "height": null,
            "justify_content": null,
            "justify_items": null,
            "left": null,
            "margin": null,
            "max_height": null,
            "max_width": null,
            "min_height": null,
            "min_width": null,
            "object_fit": null,
            "object_position": null,
            "order": null,
            "overflow": null,
            "overflow_x": null,
            "overflow_y": null,
            "padding": null,
            "right": null,
            "top": null,
            "visibility": null,
            "width": null
          }
        },
        "6b64317ecaea4c9387dd05a819c97a3b": {
          "model_module": "@jupyter-widgets/controls",
          "model_name": "DescriptionStyleModel",
          "model_module_version": "1.5.0",
          "state": {
            "_model_module": "@jupyter-widgets/controls",
            "_model_module_version": "1.5.0",
            "_model_name": "DescriptionStyleModel",
            "_view_count": null,
            "_view_module": "@jupyter-widgets/base",
            "_view_module_version": "1.2.0",
            "_view_name": "StyleView",
            "description_width": ""
          }
        },
        "642fe1c10fda430aa5eda537842e4bc9": {
          "model_module": "@jupyter-widgets/base",
          "model_name": "LayoutModel",
          "model_module_version": "1.2.0",
          "state": {
            "_model_module": "@jupyter-widgets/base",
            "_model_module_version": "1.2.0",
            "_model_name": "LayoutModel",
            "_view_count": null,
            "_view_module": "@jupyter-widgets/base",
            "_view_module_version": "1.2.0",
            "_view_name": "LayoutView",
            "align_content": null,
            "align_items": null,
            "align_self": null,
            "border": null,
            "bottom": null,
            "display": null,
            "flex": null,
            "flex_flow": null,
            "grid_area": null,
            "grid_auto_columns": null,
            "grid_auto_flow": null,
            "grid_auto_rows": null,
            "grid_column": null,
            "grid_gap": null,
            "grid_row": null,
            "grid_template_areas": null,
            "grid_template_columns": null,
            "grid_template_rows": null,
            "height": null,
            "justify_content": null,
            "justify_items": null,
            "left": null,
            "margin": null,
            "max_height": null,
            "max_width": null,
            "min_height": null,
            "min_width": null,
            "object_fit": null,
            "object_position": null,
            "order": null,
            "overflow": null,
            "overflow_x": null,
            "overflow_y": null,
            "padding": null,
            "right": null,
            "top": null,
            "visibility": null,
            "width": null
          }
        },
        "2fcdf3c2943045a6b7b1a2d77fc3544e": {
          "model_module": "@jupyter-widgets/controls",
          "model_name": "ProgressStyleModel",
          "model_module_version": "1.5.0",
          "state": {
            "_model_module": "@jupyter-widgets/controls",
            "_model_module_version": "1.5.0",
            "_model_name": "ProgressStyleModel",
            "_view_count": null,
            "_view_module": "@jupyter-widgets/base",
            "_view_module_version": "1.2.0",
            "_view_name": "StyleView",
            "bar_color": null,
            "description_width": ""
          }
        },
        "8bb6fc5b95d348c394507a7994377df4": {
          "model_module": "@jupyter-widgets/base",
          "model_name": "LayoutModel",
          "model_module_version": "1.2.0",
          "state": {
            "_model_module": "@jupyter-widgets/base",
            "_model_module_version": "1.2.0",
            "_model_name": "LayoutModel",
            "_view_count": null,
            "_view_module": "@jupyter-widgets/base",
            "_view_module_version": "1.2.0",
            "_view_name": "LayoutView",
            "align_content": null,
            "align_items": null,
            "align_self": null,
            "border": null,
            "bottom": null,
            "display": null,
            "flex": null,
            "flex_flow": null,
            "grid_area": null,
            "grid_auto_columns": null,
            "grid_auto_flow": null,
            "grid_auto_rows": null,
            "grid_column": null,
            "grid_gap": null,
            "grid_row": null,
            "grid_template_areas": null,
            "grid_template_columns": null,
            "grid_template_rows": null,
            "height": null,
            "justify_content": null,
            "justify_items": null,
            "left": null,
            "margin": null,
            "max_height": null,
            "max_width": null,
            "min_height": null,
            "min_width": null,
            "object_fit": null,
            "object_position": null,
            "order": null,
            "overflow": null,
            "overflow_x": null,
            "overflow_y": null,
            "padding": null,
            "right": null,
            "top": null,
            "visibility": null,
            "width": null
          }
        },
        "f532327c27ae4967bba70a20694550c6": {
          "model_module": "@jupyter-widgets/controls",
          "model_name": "DescriptionStyleModel",
          "model_module_version": "1.5.0",
          "state": {
            "_model_module": "@jupyter-widgets/controls",
            "_model_module_version": "1.5.0",
            "_model_name": "DescriptionStyleModel",
            "_view_count": null,
            "_view_module": "@jupyter-widgets/base",
            "_view_module_version": "1.2.0",
            "_view_name": "StyleView",
            "description_width": ""
          }
        }
      }
    }
  },
  "cells": [
    {
      "cell_type": "markdown",
      "metadata": {
        "id": "view-in-github",
        "colab_type": "text"
      },
      "source": [
        "<a href=\"https://colab.research.google.com/github/KhurramRashid6893/NLP_Text-Feature-Engineering-Implementation/blob/main/NLP_Text_Feature_Engineering_Implementation.ipynb\" target=\"_parent\"><img src=\"https://colab.research.google.com/assets/colab-badge.svg\" alt=\"Open In Colab\"/></a>"
      ]
    },
    {
      "cell_type": "markdown",
      "source": [
        "**Text Feature Engineering Implementation**"
      ],
      "metadata": {
        "id": "T6rGO_TymmlM"
      }
    },
    {
      "cell_type": "code",
      "execution_count": 9,
      "metadata": {
        "colab": {
          "base_uri": "https://localhost:8080/"
        },
        "id": "44-8hZFemlJB",
        "outputId": "f317c0e4-470c-4d87-a979-be8bcfb26402"
      },
      "outputs": [
        {
          "output_type": "stream",
          "name": "stderr",
          "text": [
            "[nltk_data] Downloading package punkt to /root/nltk_data...\n",
            "[nltk_data]   Package punkt is already up-to-date!\n",
            "[nltk_data] Downloading package punkt_tab to /root/nltk_data...\n",
            "[nltk_data]   Package punkt_tab is already up-to-date!\n",
            "[nltk_data] Downloading package averaged_perceptron_tagger to\n",
            "[nltk_data]     /root/nltk_data...\n",
            "[nltk_data]   Package averaged_perceptron_tagger is already up-to-\n",
            "[nltk_data]       date!\n",
            "[nltk_data] Downloading package averaged_perceptron_tagger_eng to\n",
            "[nltk_data]     /root/nltk_data...\n",
            "[nltk_data]   Unzipping taggers/averaged_perceptron_tagger_eng.zip.\n"
          ]
        },
        {
          "output_type": "execute_result",
          "data": {
            "text/plain": [
              "True"
            ]
          },
          "metadata": {},
          "execution_count": 9
        }
      ],
      "source": [
        "# Import libraries\n",
        "import pandas as pd\n",
        "from sklearn.feature_extraction.text import CountVectorizer, TfidfVectorizer\n",
        "import nltk\n",
        "\n",
        "nltk.download('punkt')\n",
        "nltk.download(\"punkt_tab\")\n",
        "nltk.download('averaged_perceptron_tagger')\n",
        "nltk.download(\"averaged_perceptron_tagger_eng\")\n"
      ]
    },
    {
      "cell_type": "code",
      "source": [
        "docs = [\n",
        "    \"I love natural language processing\",\n",
        "    \"NLP is amazing and powerful\",\n",
        "    \"I enjoy learning AI and machine learning\"\n",
        "]\n",
        "\n",
        "df = pd.DataFrame({\"Text\": docs})\n",
        "print(df)\n"
      ],
      "metadata": {
        "colab": {
          "base_uri": "https://localhost:8080/"
        },
        "id": "3uFn_IwlmulX",
        "outputId": "6a1cef39-8e86-41c4-d73d-e574192c9e12"
      },
      "execution_count": 2,
      "outputs": [
        {
          "output_type": "stream",
          "name": "stdout",
          "text": [
            "                                       Text\n",
            "0        I love natural language processing\n",
            "1               NLP is amazing and powerful\n",
            "2  I enjoy learning AI and machine learning\n"
          ]
        }
      ]
    },
    {
      "cell_type": "markdown",
      "source": [
        "**Bag of WORDS**"
      ],
      "metadata": {
        "id": "TYP665dUmyiY"
      }
    },
    {
      "cell_type": "code",
      "source": [
        "# Initialize BoW vectorizer\n",
        "bow = CountVectorizer()\n",
        "\n",
        "# Fit and transform the data\n",
        "bow_features = bow.fit_transform(df[\"Text\"])\n",
        "\n",
        "# Convert to DataFrame for better view\n",
        "bow_df = pd.DataFrame(bow_features.toarray(), columns=bow.get_feature_names_out())\n",
        "\n",
        "print(\"🔹 Bag of Words Representation:\")\n",
        "print(bow_df)\n"
      ],
      "metadata": {
        "colab": {
          "base_uri": "https://localhost:8080/"
        },
        "id": "lYQIAPC6m0rC",
        "outputId": "9f819485-7ec6-474c-be04-50138e3513fc"
      },
      "execution_count": 3,
      "outputs": [
        {
          "output_type": "stream",
          "name": "stdout",
          "text": [
            "🔹 Bag of Words Representation:\n",
            "   ai  amazing  and  enjoy  is  language  learning  love  machine  natural  \\\n",
            "0   0        0    0      0   0         1         0     1        0        1   \n",
            "1   0        1    1      0   1         0         0     0        0        0   \n",
            "2   1        0    1      1   0         0         2     0        1        0   \n",
            "\n",
            "   nlp  powerful  processing  \n",
            "0    0         0           1  \n",
            "1    1         1           0  \n",
            "2    0         0           0  \n"
          ]
        }
      ]
    },
    {
      "cell_type": "markdown",
      "source": [
        "**N-Gram Representation**"
      ],
      "metadata": {
        "id": "AK8ZWeqjm6gi"
      }
    },
    {
      "cell_type": "code",
      "source": [
        "# Use bigrams (2-word combinations)\n",
        "ngram_vectorizer = CountVectorizer(ngram_range=(2, 2))\n",
        "ngram_features = ngram_vectorizer.fit_transform(df[\"Text\"])\n",
        "\n",
        "ngram_df = pd.DataFrame(ngram_features.toarray(), columns=ngram_vectorizer.get_feature_names_out())\n",
        "\n",
        "print(\"🔹 Bigram Representation:\")\n",
        "print(ngram_df)\n"
      ],
      "metadata": {
        "colab": {
          "base_uri": "https://localhost:8080/"
        },
        "id": "Bhlexk5om7ZE",
        "outputId": "f83aff4f-dc19-4505-f2cd-c4b43575e232"
      },
      "execution_count": 4,
      "outputs": [
        {
          "output_type": "stream",
          "name": "stdout",
          "text": [
            "🔹 Bigram Representation:\n",
            "   ai and  amazing and  and machine  and powerful  enjoy learning  is amazing  \\\n",
            "0       0            0            0             0               0           0   \n",
            "1       0            1            0             1               0           1   \n",
            "2       1            0            1             0               1           0   \n",
            "\n",
            "   language processing  learning ai  love natural  machine learning  \\\n",
            "0                    1            0             1                 0   \n",
            "1                    0            0             0                 0   \n",
            "2                    0            1             0                 1   \n",
            "\n",
            "   natural language  nlp is  \n",
            "0                 1       0  \n",
            "1                 0       1  \n",
            "2                 0       0  \n"
          ]
        }
      ]
    },
    {
      "cell_type": "markdown",
      "source": [
        "**TF-IDF (Term Frequency–Inverse Document Frequency)**"
      ],
      "metadata": {
        "id": "39qBV7GVm-rU"
      }
    },
    {
      "cell_type": "code",
      "source": [
        "# Initialize TF-IDF vectorizer\n",
        "tfidf = TfidfVectorizer()\n",
        "\n",
        "# Fit and transform\n",
        "tfidf_features = tfidf.fit_transform(df[\"Text\"])\n",
        "\n",
        "tfidf_df = pd.DataFrame(tfidf_features.toarray(), columns=tfidf.get_feature_names_out())\n",
        "\n",
        "print(\"🔹 TF-IDF Representation:\")\n",
        "print(tfidf_df.round(2))\n"
      ],
      "metadata": {
        "colab": {
          "base_uri": "https://localhost:8080/"
        },
        "id": "vESJGgJWm_kY",
        "outputId": "840bf2bb-724d-431d-a84d-2208b261cac9"
      },
      "execution_count": 5,
      "outputs": [
        {
          "output_type": "stream",
          "name": "stdout",
          "text": [
            "🔹 TF-IDF Representation:\n",
            "     ai  amazing   and  enjoy    is  language  learning  love  machine  \\\n",
            "0  0.00     0.00  0.00   0.00  0.00       0.5      0.00   0.5     0.00   \n",
            "1  0.00     0.47  0.36   0.00  0.47       0.0      0.00   0.0     0.00   \n",
            "2  0.36     0.00  0.28   0.36  0.00       0.0      0.73   0.0     0.36   \n",
            "\n",
            "   natural   nlp  powerful  processing  \n",
            "0      0.5  0.00      0.00         0.5  \n",
            "1      0.0  0.47      0.47         0.0  \n",
            "2      0.0  0.00      0.00         0.0  \n"
          ]
        }
      ]
    },
    {
      "cell_type": "markdown",
      "source": [
        "**Part-of-Speech (POS) Tag Features**\n",
        "\n",
        "\n",
        "Add linguistic structure as numerical info."
      ],
      "metadata": {
        "id": "dlH2dpTsnD1e"
      }
    },
    {
      "cell_type": "code",
      "source": [
        "from nltk import word_tokenize, pos_tag\n",
        "\n",
        "def extract_pos_features(text):\n",
        "    tokens = word_tokenize(text)\n",
        "    pos_tags = pos_tag(tokens)\n",
        "    nouns = len([t for t in pos_tags if t[1].startswith('N')])\n",
        "    verbs = len([t for t in pos_tags if t[1].startswith('V')])\n",
        "    adjectives = len([t for t in pos_tags if t[1].startswith('J')])\n",
        "    return pd.Series([nouns, verbs, adjectives], index=[\"Nouns\", \"Verbs\", \"Adjectives\"])\n",
        "\n",
        "pos_df = df[\"Text\"].apply(extract_pos_features)\n",
        "print(\"🔹 POS Tag Features:\")\n",
        "print(pos_df)\n"
      ],
      "metadata": {
        "colab": {
          "base_uri": "https://localhost:8080/"
        },
        "id": "WncvdPXAnJ_u",
        "outputId": "31e1de57-be17-4268-87bf-8e04749604dd"
      },
      "execution_count": 10,
      "outputs": [
        {
          "output_type": "stream",
          "name": "stdout",
          "text": [
            "🔹 POS Tag Features:\n",
            "   Nouns  Verbs  Adjectives\n",
            "0      2      1           1\n",
            "1      1      1           2\n",
            "2      3      2           0\n"
          ]
        }
      ]
    },
    {
      "cell_type": "markdown",
      "source": [
        "Sparse vs Dense Representation"
      ],
      "metadata": {
        "id": "0w_f_wlnoCRc"
      }
    },
    {
      "cell_type": "code",
      "source": [
        "from sklearn.feature_extraction.text import CountVectorizer\n",
        "\n",
        "docs = [\"I love NLP\", \"NLP is amazing\"]\n",
        "vectorizer = CountVectorizer()\n",
        "X = vectorizer.fit_transform(docs)\n",
        "\n",
        "print(\"Sparse Representation:\")\n",
        "print(X)\n",
        "print(\"Shape:\", X.shape)\n"
      ],
      "metadata": {
        "colab": {
          "base_uri": "https://localhost:8080/"
        },
        "id": "9FWgnzTOn0sa",
        "outputId": "3f90288d-b9d4-45d0-f333-081d0b0784d4"
      },
      "execution_count": 11,
      "outputs": [
        {
          "output_type": "stream",
          "name": "stdout",
          "text": [
            "Sparse Representation:\n",
            "<Compressed Sparse Row sparse matrix of dtype 'int64'\n",
            "\twith 5 stored elements and shape (2, 4)>\n",
            "  Coords\tValues\n",
            "  (0, 2)\t1\n",
            "  (0, 3)\t1\n",
            "  (1, 3)\t1\n",
            "  (1, 1)\t1\n",
            "  (1, 0)\t1\n",
            "Shape: (2, 4)\n"
          ]
        }
      ]
    },
    {
      "cell_type": "code",
      "source": [
        "#Convert Sparse → Dense\n",
        "dense = X.toarray()\n",
        "print(dense)\n"
      ],
      "metadata": {
        "colab": {
          "base_uri": "https://localhost:8080/"
        },
        "id": "YLRWGlFen4RC",
        "outputId": "dcb16651-f2b9-4c00-873d-818b114797fe"
      },
      "execution_count": 12,
      "outputs": [
        {
          "output_type": "stream",
          "name": "stdout",
          "text": [
            "[[0 0 1 1]\n",
            " [1 1 0 1]]\n"
          ]
        }
      ]
    },
    {
      "cell_type": "markdown",
      "source": [
        "Measuring Text Similarity\n",
        "\n",
        "Once you have text as vectors, you can compare them mathematically\n",
        "(e.g., how similar two sentences are)."
      ],
      "metadata": {
        "id": "PrrdQNABn9Di"
      }
    },
    {
      "cell_type": "code",
      "source": [
        "from sklearn.metrics.pairwise import cosine_similarity\n",
        "\n",
        "docs = [\"I love NLP\", \"NLP is amazing\", \"I enjoy deep learning\"]\n",
        "tfidf = TfidfVectorizer()\n",
        "X = tfidf.fit_transform(docs)\n",
        "\n",
        "# Cosine similarity matrix\n",
        "cosine_sim = cosine_similarity(X)\n",
        "print(\"Cosine Similarity Matrix:\")\n",
        "print(cosine_sim.round(2))\n"
      ],
      "metadata": {
        "colab": {
          "base_uri": "https://localhost:8080/"
        },
        "id": "AWkfq1WRn6Uc",
        "outputId": "19d8c3ee-d4cf-4407-9cf4-e82869a3cdbd"
      },
      "execution_count": 13,
      "outputs": [
        {
          "output_type": "stream",
          "name": "stdout",
          "text": [
            "Cosine Similarity Matrix:\n",
            "[[1.   0.29 0.  ]\n",
            " [0.29 1.   0.  ]\n",
            " [0.   0.   1.  ]]\n"
          ]
        }
      ]
    },
    {
      "cell_type": "markdown",
      "source": [
        "Visualizing Text Vectors\n",
        "\n",
        "You can even plot your text features to understand clustering."
      ],
      "metadata": {
        "id": "bdMj20FMoGBJ"
      }
    },
    {
      "cell_type": "code",
      "source": [
        "from sklearn.decomposition import PCA\n",
        "import matplotlib.pyplot as plt\n",
        "\n",
        "X_dense = X.toarray()\n",
        "pca = PCA(n_components=2)\n",
        "reduced = pca.fit_transform(X_dense)\n",
        "\n",
        "plt.scatter(reduced[:, 0], reduced[:, 1])\n",
        "for i, text in enumerate(docs):\n",
        "    plt.annotate(f\"Doc{i+1}\", (reduced[i, 0], reduced[i, 1]))\n",
        "plt.title(\"2D Visualization of Text Vectors\")\n",
        "plt.show()\n"
      ],
      "metadata": {
        "colab": {
          "base_uri": "https://localhost:8080/",
          "height": 452
        },
        "id": "hQy1TA8HoGcC",
        "outputId": "66d98c2d-1cfe-42ed-e829-f42200b41abd"
      },
      "execution_count": 14,
      "outputs": [
        {
          "output_type": "display_data",
          "data": {
            "text/plain": [
              "<Figure size 640x480 with 1 Axes>"
            ],
            "image/png": "[encoded data removed]"
          },
          "metadata": {}
        }
      ]
    },
    {
      "cell_type": "markdown",
      "source": [
        "Combining Features\n",
        "\n",
        "You can combine multiple feature types together"
      ],
      "metadata": {
        "id": "U6o6LYv6oPGn"
      }
    },
    {
      "cell_type": "code",
      "source": [
        "import numpy as np\n",
        "\n",
        "combined_features = np.hstack((tfidf_features.toarray(), pos_df.values))\n",
        "print(\"Final Combined Feature Shape:\", combined_features.shape)\n"
      ],
      "metadata": {
        "colab": {
          "base_uri": "https://localhost:8080/"
        },
        "id": "k1UJdgvmoK-y",
        "outputId": "a2a10489-e3cb-4105-f27e-52e2f1ab4054"
      },
      "execution_count": 15,
      "outputs": [
        {
          "output_type": "stream",
          "name": "stdout",
          "text": [
            "Final Combined Feature Shape: (3, 16)\n"
          ]
        }
      ]
    },
    {
      "cell_type": "markdown",
      "source": [
        "# **What Are Word Embeddings?**\n",
        "\n",
        "Word embeddings are dense vector representations of words that capture their meaning, context, and relationships.\n",
        "\n",
        "Each word is represented as a fixed-length numerical vector (e.g., 100D or 300D).\n",
        "\n",
        "Unlike BoW or TF-IDF, embeddings understand meaning —\n",
        "similar words have similar vectors."
      ],
      "metadata": {
        "id": "Pwuo4nU8olfU"
      }
    },
    {
      "cell_type": "markdown",
      "source": [
        "**Static Word Embeddings**\n",
        "\n",
        "🔹 A. Word2Vec (Google)\n",
        "\n",
        " Concept:\n",
        "\n",
        "Learns embeddings by predicting word neighbors (context) using neural networks.\n",
        "\n",
        "Two architectures:\n",
        "\n",
        "CBOW – predict word from context\n",
        "\n",
        "Skip-gram – predict context from word\n",
        "\n"
      ],
      "metadata": {
        "id": "6Hpc-GN3ouJy"
      }
    },
    {
      "cell_type": "code",
      "source": [
        "!pip install gensim"
      ],
      "metadata": {
        "colab": {
          "base_uri": "https://localhost:8080/"
        },
        "id": "hXKG-KXWo3Pe",
        "outputId": "4aae58d2-2e7c-41d8-9c38-82bb2e39ff02"
      },
      "execution_count": 17,
      "outputs": [
        {
          "output_type": "stream",
          "name": "stdout",
          "text": [
            "Collecting gensim\n",
            "  Downloading gensim-4.4.0-cp312-cp312-manylinux_2_24_x86_64.manylinux_2_28_x86_64.whl.metadata (8.4 kB)\n",
            "Requirement already satisfied: numpy>=1.18.5 in /usr/local/lib/python3.12/dist-packages (from gensim) (2.0.2)\n",
            "Requirement already satisfied: scipy>=1.7.0 in /usr/local/lib/python3.12/dist-packages (from gensim) (1.16.2)\n",
            "Requirement already satisfied: smart_open>=1.8.1 in /usr/local/lib/python3.12/dist-packages (from gensim) (7.4.0)\n",
            "Requirement already satisfied: wrapt in /usr/local/lib/python3.12/dist-packages (from smart_open>=1.8.1->gensim) (2.0.0)\n",
            "Downloading gensim-4.4.0-cp312-cp312-manylinux_2_24_x86_64.manylinux_2_28_x86_64.whl (27.9 MB)\n",
            "\u001b[2K   \u001b[90m━━━━━━━━━━━━━━━━━━━━━━━━━━━━━━━━━━━━━━━━\u001b[0m \u001b[32m27.9/27.9 MB\u001b[0m \u001b[31m70.0 MB/s\u001b[0m eta \u001b[36m0:00:00\u001b[0m\n",
            "\u001b[?25hInstalling collected packages: gensim\n",
            "Successfully installed gensim-4.4.0\n"
          ]
        }
      ]
    },
    {
      "cell_type": "code",
      "source": [
        "from gensim.models import Word2Vec\n",
        "\n",
        "# Sample corpus\n",
        "sentences = [\n",
        "    [\"i\", \"love\", \"nlp\"],\n",
        "    [\"nlp\", \"is\", \"amazing\"],\n",
        "    [\"i\", \"enjoy\", \"learning\", \"machine\", \"learning\"]\n",
        "]\n",
        "\n",
        "# Train Word2Vec model\n",
        "model = Word2Vec(sentences, vector_size=50, window=3, min_count=1, sg=1)\n",
        "\n",
        "# View vector for a word\n",
        "print(\"🔹 Vector for 'nlp':\")\n",
        "print(model.wv[\"nlp\"])\n",
        "\n",
        "# Find similar words\n",
        "print(\"🔹 Most similar to 'learning':\")\n",
        "print(model.wv.most_similar(\"learning\"))\n"
      ],
      "metadata": {
        "colab": {
          "base_uri": "https://localhost:8080/"
        },
        "id": "Ku8lW2B9o0Hj",
        "outputId": "3dc2f366-ca70-482e-b14c-eb526a07aa2b"
      },
      "execution_count": 18,
      "outputs": [
        {
          "output_type": "stream",
          "name": "stdout",
          "text": [
            "🔹 Vector for 'nlp':\n",
            "[-0.01631583  0.0089916  -0.00827415  0.00164907  0.01699724 -0.00892435\n",
            "  0.009035   -0.01357392 -0.00709698  0.01879702 -0.00315531  0.00064274\n",
            " -0.00828126 -0.01536538 -0.00301602  0.00493959 -0.00177605  0.01106732\n",
            " -0.00548595  0.00452013  0.01091159  0.01669191 -0.00290748 -0.01841629\n",
            "  0.0087411   0.00114357  0.01488382 -0.00162657 -0.00527683 -0.01750602\n",
            " -0.00171311  0.00565313  0.01080286  0.01410531 -0.01140624  0.00371764\n",
            "  0.01217773 -0.0095961  -0.00621452  0.01359526  0.00326295  0.00037983\n",
            "  0.00694727  0.00043555  0.01923765  0.01012121 -0.01783478 -0.01408312\n",
            "  0.00180291  0.01278507]\n",
            "🔹 Most similar to 'learning':\n",
            "[('love', 0.13204392790794373), ('i', 0.1267007291316986), ('nlp', 0.042373016476631165), ('amazing', 0.012442179024219513), ('machine', -0.01447527389973402), ('is', -0.05974648892879486), ('enjoy', -0.11821284145116806)]\n"
          ]
        }
      ]
    },
    {
      "cell_type": "markdown",
      "source": [
        "**GloVe (Global Vectors for Word Representation)**\n",
        "\n",
        " Concept:\n",
        "\n",
        "\n",
        "Combines global co-occurrence statistics with local context.\n",
        "\n",
        "Trained on large corpora (Wikipedia, Common Crawl).\n",
        "\n",
        "Pre-trained GloVe embeddings:\n",
        "\n",
        "glove.6B.100d.txt (100 dimensions, 6B tokens)"
      ],
      "metadata": {
        "id": "gNG3ElYso-yC"
      }
    },
    {
      "cell_type": "code",
      "source": [
        "#Implementation (Pretrained Embeddings)\n",
        "import numpy as np\n",
        "\n",
        "# Load pretrained GloVe file (download from: https://nlp.stanford.edu/projects/glove/)\n",
        "embeddings_index = {}\n",
        "with open(\"/content/drive/MyDrive/Colab Notebooks/NLP/pretrained GloVe.2024.dolma.300d.txt\", encoding=\"utf8\") as f:\n",
        "    for line in f:\n",
        "        values = line.split()\n",
        "        word = values[0]\n",
        "        coefs = np.asarray(values[1:], dtype='float32')\n",
        "        embeddings_index[word] = coefs\n",
        "\n",
        "print(\"Loaded %s word vectors.\" % len(embeddings_index))\n",
        "\n",
        "# Example: Get vector for 'king'\n",
        "print(\"Vector for 'king':\")\n",
        "print(embeddings_index[\"king\"])\n"
      ],
      "metadata": {
        "colab": {
          "base_uri": "https://localhost:8080/"
        },
        "id": "_mVYiN8go-iJ",
        "outputId": "ef26242d-c42a-4a16-b318-ec9ac6be6d98"
      },
      "execution_count": 20,
      "outputs": [
        {
          "output_type": "stream",
          "name": "stdout",
          "text": [
            "Loaded 1200001 word vectors.\n",
            "Vector for 'king':\n",
            "[ 6.603200e-02 -2.294820e-01 -3.092080e-01  4.549960e-01 -1.933340e-01\n",
            "  2.746510e-01  1.203650e-01 -1.889070e-01  1.100442e+00 -4.446100e-02\n",
            " -1.360030e-01 -3.324510e-01  1.657720e-01  1.898240e-01  1.087910e-01\n",
            " -2.284600e-01  7.749300e-02 -1.664380e-01 -3.570940e-01  1.221390e-01\n",
            "  2.770400e-01 -2.228850e-01 -7.497440e-01 -4.372610e-01 -3.963830e-01\n",
            " -4.035970e-01  2.090570e-01  8.307100e-02 -4.926000e-03 -4.306340e-01\n",
            "  8.482200e-02 -1.756540e-01 -2.968540e-01  9.071300e-02  2.550830e-01\n",
            "  1.958340e-01 -1.431590e-01  5.924200e-02 -1.708500e-02  1.498600e-02\n",
            " -5.592000e-03 -7.950700e-02 -4.498140e-01 -3.083240e-01  5.127140e-01\n",
            " -5.942900e-02  1.379540e-01 -3.557770e-01  9.933300e-02 -6.155600e-02\n",
            " -2.693070e-01  2.911750e-01  3.337060e-01 -4.296770e-01 -9.582300e-02\n",
            "  1.487830e-01  3.276330e-01  7.061000e-03  8.776200e-02  1.902720e-01\n",
            " -2.068300e-01  1.352710e-01 -6.685140e-01 -1.922120e-01 -5.362600e-02\n",
            " -1.458160e-01  3.291390e-01  2.025410e-01 -2.403780e-01  1.287400e-02\n",
            " -7.651700e-02 -6.683900e-02 -2.009960e-01 -3.633410e-01  1.574720e-01\n",
            " -4.170820e-01 -2.519220e-01 -7.173900e-02  1.689350e-01  4.545530e-01\n",
            " -1.846020e-01  5.949000e-03  3.989990e-01 -1.485560e-01 -2.104920e-01\n",
            " -4.423700e-02 -1.117330e-01  6.017570e-01  9.491980e-01  4.441200e-02\n",
            " -1.945680e-01 -1.026590e-01  3.690340e-01 -6.042360e-01 -3.257700e-02\n",
            " -6.939990e-01  2.953320e-01 -7.305700e-02  1.424860e-01 -2.094160e-01\n",
            "  4.901970e-01 -4.345700e-02 -2.019060e-01  2.863970e-01  5.196890e-01\n",
            "  3.200160e-01  5.868880e-01 -1.459080e-01  2.022550e-01 -1.828040e-01\n",
            " -1.437960e-01 -3.294720e-01  5.632580e-01  3.040500e-01  2.617810e-01\n",
            "  6.649600e-02 -5.085540e-01 -6.002660e-01 -3.788920e-01  2.227360e-01\n",
            "  1.553927e+00  2.967680e-01 -5.800000e-05  2.927700e-02  9.362000e-02\n",
            " -2.104910e-01 -2.468620e-01  1.920420e-01 -6.849920e-01 -4.414600e-01\n",
            " -1.085300e-01  6.584200e-02  6.979600e-02 -1.892900e-01  8.843800e-02\n",
            " -4.438610e-01  2.690170e-01 -1.268150e-01  1.227450e-01  8.222000e-03\n",
            "  9.714000e-02  1.127580e-01  2.509280e-01 -6.791860e-01 -1.110100e-01\n",
            " -2.568280e-01 -3.835000e-01  5.159230e-01 -4.277950e-01  1.829950e-01\n",
            "  3.315530e-01  1.559200e-02  1.784610e-01  1.996520e-01  3.410670e-01\n",
            " -6.465300e-02 -1.187970e-01  2.215100e-02 -4.802020e-01 -1.557050e-01\n",
            "  1.077200e-01  2.264550e-01 -3.788032e+00 -3.460650e-01 -1.441810e-01\n",
            " -5.434310e-01 -4.679930e-01 -2.926130e-01 -4.593900e-01 -2.841910e-01\n",
            " -5.220800e-02 -5.182500e-02  1.001700e-02  1.665350e-01 -1.122250e-01\n",
            " -2.362280e-01 -2.828160e-01 -4.841440e-01  2.282500e-02  3.199220e-01\n",
            "  1.123670e-01  3.337520e-01 -7.986000e-03  1.776180e-01 -5.012240e-01\n",
            " -2.868980e-01 -1.090690e-01 -4.016690e-01  7.774600e-02 -1.722580e-01\n",
            "  4.225690e-01  2.752720e-01  2.011800e-01 -1.628750e-01 -9.225060e-01\n",
            " -1.296905e+00  6.611300e-02 -3.166390e-01  9.048700e-02  6.310100e-02\n",
            "  2.437330e-01  1.650050e-01  5.228200e-02 -2.768620e-01 -1.046460e-01\n",
            "  5.906200e-02  5.627700e-02  5.280390e-01  3.840690e-01  3.395600e-01\n",
            " -7.679090e-01  2.045241e+00  8.157000e-03  3.809120e-01  1.714690e-01\n",
            "  6.222520e-01  4.244100e-01  1.701110e-01  9.061640e-01  1.392420e-01\n",
            "  2.617780e-01  5.414070e-01 -2.877800e-01 -6.292000e-03  5.881120e-01\n",
            "  8.459000e-02 -4.588280e-01  2.288780e-01 -1.327300e-02  1.311070e-01\n",
            " -9.455300e-02  9.470580e-01 -2.595920e-01  2.634280e-01  1.302700e-02\n",
            " -7.684000e-02  3.401200e-02  2.680200e-01 -7.796000e-03 -5.493060e-01\n",
            " -4.495710e-01  2.012200e-02 -4.138800e-01 -2.343400e-02  2.589360e-01\n",
            " -2.415640e-01 -2.532370e-01 -3.869840e-01 -1.589220e-01  3.014210e-01\n",
            " -1.664520e-01 -2.661460e-01  7.891400e-02  1.126800e-01  8.580700e-02\n",
            "  1.728350e-01 -2.528700e-02  2.971660e-01 -8.593770e-01  1.103820e-01\n",
            "  1.707210e-01  1.544600e-01 -3.188700e-02  3.071260e-01  6.469600e-02\n",
            "  1.471370e-01  9.402000e-02  1.836490e-01  3.074500e-01 -2.059190e-01\n",
            "  2.753110e-01 -1.626000e-03 -4.298380e-01 -7.389080e-01  1.705320e-01\n",
            " -4.491880e-01  3.336360e-01  5.468400e-02  3.250880e-01 -2.047200e-02\n",
            " -4.619870e-01  2.917000e-03  2.633080e-01 -1.911450e-01 -2.250570e-01\n",
            "  2.050910e-01 -2.129880e-01  2.611000e-01 -1.540590e-01 -1.430090e-01\n",
            " -2.656370e-01 -3.365750e-01  2.099750e-01 -5.596900e-02 -6.659700e-02\n",
            "  3.180760e-01  1.818110e-01  5.893490e-01 -1.756760e-01  9.839000e-03]\n"
          ]
        }
      ]
    },
    {
      "cell_type": "markdown",
      "source": [
        "**FastText (Facebook)**\n",
        "\n",
        " Concept:\n",
        "\n",
        "Similar to Word2Vec but works at subword level.\n",
        "→ Understands misspelled or rare words (e.g., “enviroment” ≈ “environment”)."
      ],
      "metadata": {
        "id": "Y3hefhg9pTjh"
      }
    },
    {
      "cell_type": "code",
      "source": [
        "from gensim.models.fasttext import FastText\n",
        "\n",
        "model = FastText(sentences, vector_size=50, window=3, min_count=1)\n",
        "print(\"Vector for 'environment':\", model.wv[\"environment\"])\n"
      ],
      "metadata": {
        "colab": {
          "base_uri": "https://localhost:8080/"
        },
        "id": "oHDAE-8opV2V",
        "outputId": "80e879bd-bb41-4579-ecb2-ff6c84ebcbbe"
      },
      "execution_count": 21,
      "outputs": [
        {
          "output_type": "stream",
          "name": "stdout",
          "text": [
            "Vector for 'environment': [-4.3731966e-04 -3.1014390e-03  2.1508157e-03  8.8138779e-04\n",
            "  2.3435052e-03 -1.1000612e-03  7.9161000e-05  7.7587325e-04\n",
            " -7.7676865e-05  2.7582357e-03  7.7407359e-04 -1.3233055e-04\n",
            " -8.7501803e-06 -6.0289900e-04  1.6574118e-03 -2.5168490e-03\n",
            "  1.1085202e-03 -2.2000785e-04 -3.7017610e-04  1.2507250e-03\n",
            " -3.2794260e-04 -1.0985747e-03 -4.8599922e-04 -1.8524112e-03\n",
            "  3.3162415e-04 -4.0935557e-03 -1.4083165e-03  2.1750743e-03\n",
            "  2.2642929e-03  4.7698631e-03  2.4935128e-03  1.7245478e-03\n",
            "  1.8603469e-03  9.6400711e-04  5.7527685e-04  3.3782900e-03\n",
            "  2.7572038e-03  9.9374179e-04  3.1301056e-04 -3.2918253e-03\n",
            "  1.8923722e-04 -1.0976851e-03  2.6267176e-04 -8.2442595e-04\n",
            " -4.6971298e-04  1.2186750e-04  1.4667441e-03 -6.0249824e-04\n",
            "  2.7108062e-03 -9.2392776e-04]\n"
          ]
        }
      ]
    },
    {
      "cell_type": "markdown",
      "source": [
        "# **Contextual Word Embeddings**\n",
        "🔹 A. BERT (Bidirectional Encoder Representations from Transformers)\n",
        "\n",
        "Unlike Word2Vec, BERT generates context-dependent embeddings —\n",
        "the vector for a word changes depending on its sentence."
      ],
      "metadata": {
        "id": "Qa2jvW-2pZ_c"
      }
    },
    {
      "cell_type": "code",
      "source": [
        "from transformers import BertTokenizer, BertModel\n",
        "import torch\n",
        "\n",
        "# Load pretrained BERT model\n",
        "tokenizer = BertTokenizer.from_pretrained(\"bert-base-uncased\")\n",
        "model = BertModel.from_pretrained(\"bert-base-uncased\")\n",
        "\n",
        "# Input text\n",
        "text = \"I love learning NLP\"\n",
        "inputs = tokenizer(text, return_tensors=\"pt\")\n",
        "outputs = model(**inputs)\n",
        "\n",
        "# Get embeddings for each token\n",
        "embeddings = outputs.last_hidden_state\n",
        "print(\"Embeddings shape:\", embeddings.shape)\n"
      ],
      "metadata": {
        "colab": {
          "base_uri": "https://localhost:8080/",
          "height": 318,
          "referenced_widgets": [
            "6f5823ece31f425389daf8f20779a4b6",
            "53b6037aac63476facc16f46ab8a0086",
            "ba6d907a47b942d181a979db55f096e0",
            "6460989defa44d079ee6e6773f32d07d",
            "ce4cdd068f744d998df73181a17510ba",
            "09e135188eda462db8ec9fe5242a90e9",
            "b1d7cfab1cc646bfbbd80a8e257d67a7",
            "1099b3ba702e463eb782796698767895",
            "b33bc4b4702d43daa68a7c09eaec09e9",
            "1c14e6576366454090a69b2eec93dee7",
            "921604d24aaa438dadf92cc395be6bb5",
            "8162bca91e4d4f2a894885479b0978be",
            "a783c500d67342a3827a332ea3aacbca",
            "0d3179afb6a34b87a7bbe82366cc6c9e",
            "a46732bed5544548bf751d1b5d79a11d",
            "b221d668d35c4800935d9a1cf6f220a4",
            "4048004e4242434883f4b9d00eb44110",
            "bbba41072d49427fa57f3f8bec33dea2",
            "fbb10dfc2d344dcb8acdafe296afab87",
            "3ea7f3a454e34fe8bfc19081df6579fd",
            "6cbb58d7ba604cc5ba22469007786737",
            "c9f0c06900e147c58bbb804143df6699",
            "eb8f8322ba43466e92345baa372c59fa",
            "c5989f2dec0d47deb8adfe3af924dfea",
            "140ea6bc50c846c68aac87883a9cfa85",
            "6f4f704f1a3e4643ae689773ed4e858a",
            "b4b7b0cca1844d30a1c6f64a6ded648d",
            "6b21f0343ca1421d84c2d843cba9cf62",
            "8c93e2dde53945848306c6d8029f1eb6",
            "8504e170a482447da113fa0f04179026",
            "592e99cd6b394caeb2c837ce58f69b97",
            "72db5b22336a438fbbe817107d169586",
            "a861d1eb13be42219934b8d9e086609b",
            "3010e8c88b6c44399c806a31ff56e639",
            "990d100031ef44f490060188e9f3bcb6",
            "312b9412282f497e8ecdd4c4a9e514ba",
            "3ca9dc9dea4e49d787e9e8e8be9a7652",
            "d73d4668e7c942b99993d2576a818a93",
            "e7f6113f2ee24fd8a1fec99c034c2f06",
            "3c75574d42dc4d82be52e11606d2525b",
            "a97043e0a11a4115a2f0b8ae08b79ce1",
            "3584dcf1c2764724933aa8389dec574e",
            "de22b5422c5348f3a906ad0936c15b98",
            "28f74d9369fd454789e4925d92d40974",
            "7ae0c3a1efdf48388bef5a6b1a3eee44",
            "05b0a70829d34e5ca04ba5b52c303046",
            "2a14eae16fa641628b0c7a9fe6211d59",
            "3b107132d03c4538a04e0b4408377753",
            "bab250617d0c4c37970076308696ea7f",
            "3eb4d93ee6f54f3885789bee09520641",
            "6b64317ecaea4c9387dd05a819c97a3b",
            "642fe1c10fda430aa5eda537842e4bc9",
            "2fcdf3c2943045a6b7b1a2d77fc3544e",
            "8bb6fc5b95d348c394507a7994377df4",
            "f532327c27ae4967bba70a20694550c6"
          ]
        },
        "id": "T9Nb59IJpb6x",
        "outputId": "0eb1b4ad-27bc-40a0-a945-05fc0c20f584"
      },
      "execution_count": 22,
      "outputs": [
        {
          "output_type": "stream",
          "name": "stderr",
          "text": [
            "/usr/local/lib/python3.12/dist-packages/huggingface_hub/utils/_auth.py:94: UserWarning: \n",
            "The secret `HF_TOKEN` does not exist in your Colab secrets.\n",
            "To authenticate with the Hugging Face Hub, create a token in your settings tab (https://huggingface.co/settings/tokens), set it as secret in your Google Colab and restart your session.\n",
            "You will be able to reuse this secret in all of your notebooks.\n",
            "Please note that authentication is recommended but still optional to access public models or datasets.\n",
            "  warnings.warn(\n"
          ]
        },
        {
          "output_type": "display_data",
          "data": {
            "text/plain": [
              "tokenizer_config.json:   0%|          | 0.00/48.0 [00:00<?, ?B/s]"
            ],
            "application/vnd.jupyter.widget-view+json": {
              "version_major": 2,
              "version_minor": 0,
              "model_id": "6f5823ece31f425389daf8f20779a4b6"
            }
          },
          "metadata": {}
        },
        {
          "output_type": "display_data",
          "data": {
            "text/plain": [
              "vocab.txt:   0%|          | 0.00/232k [00:00<?, ?B/s]"
            ],
            "application/vnd.jupyter.widget-view+json": {
              "version_major": 2,
              "version_minor": 0,
              "model_id": "8162bca91e4d4f2a894885479b0978be"
            }
          },
          "metadata": {}
        },
        {
          "output_type": "display_data",
          "data": {
            "text/plain": [
              "tokenizer.json:   0%|          | 0.00/466k [00:00<?, ?B/s]"
            ],
            "application/vnd.jupyter.widget-view+json": {
              "version_major": 2,
              "version_minor": 0,
              "model_id": "eb8f8322ba43466e92345baa372c59fa"
            }
          },
          "metadata": {}
        },
        {
          "output_type": "display_data",
          "data": {
            "text/plain": [
              "config.json:   0%|          | 0.00/570 [00:00<?, ?B/s]"
            ],
            "application/vnd.jupyter.widget-view+json": {
              "version_major": 2,
              "version_minor": 0,
              "model_id": "3010e8c88b6c44399c806a31ff56e639"
            }
          },
          "metadata": {}
        },
        {
          "output_type": "display_data",
          "data": {
            "text/plain": [
              "model.safetensors:   0%|          | 0.00/440M [00:00<?, ?B/s]"
            ],
            "application/vnd.jupyter.widget-view+json": {
              "version_major": 2,
              "version_minor": 0,
              "model_id": "7ae0c3a1efdf48388bef5a6b1a3eee44"
            }
          },
          "metadata": {}
        },
        {
          "output_type": "stream",
          "name": "stdout",
          "text": [
            "Embeddings shape: torch.Size([1, 7, 768])\n"
          ]
        }
      ]
    }
  ]
}